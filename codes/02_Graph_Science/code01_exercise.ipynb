{
 "cells": [
  {
   "cell_type": "markdown",
   "metadata": {},
   "source": [
    "# Lecture : Introduction to Graph Science\n",
    "\n",
    "## Lab 01 : Generate artificial LFR social networks -- Exercise\n",
    "\n",
    "### Xavier Bresson, Nian Liu\n"
   ]
  },
  {
   "cell_type": "code",
   "execution_count": 1,
   "metadata": {
    "execution": {
     "iopub.execute_input": "2024-09-03T06:21:24.749806Z",
     "iopub.status.busy": "2024-09-03T06:21:24.749358Z",
     "iopub.status.idle": "2024-09-03T06:21:24.754928Z",
     "shell.execute_reply": "2024-09-03T06:21:24.754346Z",
     "shell.execute_reply.started": "2024-09-03T06:21:24.749790Z"
    }
   },
   "outputs": [],
   "source": [
    "# For Google Colaboratory\n",
    "import sys, os\n",
    "if 'google.colab' in sys.modules:\n",
    "    # mount google drive\n",
    "    from google.colab import drive\n",
    "    drive.mount('/content/gdrive')\n",
    "    path_to_file = '/content/gdrive/My Drive/CS5284_2024_codes/codes/02_Graph_Science'\n",
    "    print(path_to_file)\n",
    "    # change current path to the folder containing \"path_to_file\"\n",
    "    os.chdir(path_to_file)\n",
    "    !pwd\n",
    "    "
   ]
  },
  {
   "cell_type": "code",
   "execution_count": 2,
   "metadata": {
    "execution": {
     "iopub.execute_input": "2024-09-03T06:21:25.199626Z",
     "iopub.status.busy": "2024-09-03T06:21:25.199336Z",
     "iopub.status.idle": "2024-09-03T06:21:25.516444Z",
     "shell.execute_reply": "2024-09-03T06:21:25.515900Z",
     "shell.execute_reply.started": "2024-09-03T06:21:25.199612Z"
    }
   },
   "outputs": [],
   "source": [
    "# Load libraries\n",
    "import numpy as np\n",
    "%matplotlib inline\n",
    "#%matplotlib notebook \n",
    "import matplotlib.pyplot as plt\n",
    "import subprocess # print output of LFR code\n",
    "import scipy.sparse # sparse matrix\n",
    "import scipy.sparse.linalg\n",
    "import pylab # 3D visualization\n",
    "from mpl_toolkits.mplot3d import Axes3D\n",
    "from matplotlib import pyplot\n",
    "from lib import *\n",
    "import warnings; warnings.filterwarnings(\"ignore\")\n",
    "import platform\n"
   ]
  },
  {
   "cell_type": "markdown",
   "metadata": {},
   "source": [
    "### Question 1 : Define a LFR graph by selecting the hyper-parameters\n",
    "https://github.com/eXascaleInfolab/LFR-Benchmark_UndirWeightOvp\n",
    "\n",
    "* N : Number of nodes\n",
    "* k : Number of communities\n",
    "* maxc : Maximum size of community\n",
    "* minc : Minimum size of community\n",
    "* mu : Mixing parameter between communities (the lower the less mix the communities)\n",
    "  "
   ]
  },
  {
   "cell_type": "code",
   "execution_count": null,
   "metadata": {},
   "outputs": [],
   "source": [
    "# LFR parameters\n",
    "N = # YOUR CODE HERE \n",
    "k = maxk = # YOUR CODE HERE \n",
    "\n",
    "# different community sizes\n",
    "minc = # YOUR CODE HERE \n",
    "maxc = # YOUR CODE HERE \n",
    "\n",
    "# mixing parameter\n",
    "mu = # YOUR CODE HERE \n",
    "\n",
    "print('N, k, minc, maxc, mu :', N, k, minc, maxc, mu)\n"
   ]
  },
  {
   "cell_type": "code",
   "execution_count": null,
   "metadata": {},
   "outputs": [],
   "source": [
    "print('os is :', platform.system())\n",
    "if platform.system()!='Windows': # os is not Windows\n",
    "    # Compile LFR code\n",
    "    !{'cd LFR; make; cd ..'}\n",
    "    # Run LFR code\n",
    "    cmd = './LFR/benchmark -N ' + str(N) + ' -k ' + str(k) + ' -maxk ' + str(maxk) + \\\n",
    "    ' -mu ' + str(mu) + ' -minc ' + str(minc) + ' -maxc ' + str(maxc)\n",
    "    print(cmd)\n",
    "    !{cmd}\n",
    "    # Get path to generated dataset\n",
    "    path_dataset = './'\n",
    "else: # os is Windows\n",
    "    print('LFR cannot be compiled under Windows -- Using saved dataset instead')\n",
    "    path_dataset = 'datasets/'\n"
   ]
  },
  {
   "cell_type": "code",
   "execution_count": null,
   "metadata": {},
   "outputs": [],
   "source": [
    "# Read LFR data:\n",
    "#     'community.dat' contains the ground truth of communities from 1 to K\n",
    "#     'network.dat' contains the edges of the LFR network\n",
    "\n",
    "community = np.loadtxt(path_dataset + 'community.dat')\n",
    "community = community[:,1]\n",
    "print('nb of nodes=',community.shape[0])\n",
    "\n",
    "network = np.loadtxt(path_dataset + 'network.dat') \n",
    "network -= 1 # index starts at 0 with python\n",
    "print('nb of edges=',network.shape[0])\n"
   ]
  },
  {
   "cell_type": "markdown",
   "metadata": {},
   "source": [
    "### Question 2 : Construct a sparse graph with the scipy library\n",
    "https://docs.scipy.org/doc/scipy/reference/sparse.html\n",
    "\n",
    "Compute a sparse matrix W which represents the adjacency matrix of a LFR network.\n",
    "\n",
    "For example, `W = scipy.sparse.csr_matrix((data, (row_ind, col_ind)), shape)` where\n",
    "https://docs.scipy.org/doc/scipy/reference/generated/scipy.sparse.csr_matrix.html\n",
    "\n",
    "* row_ind : Vector representing the node index of the starting edge i, i.e. the row index of W.\n",
    "* col_ind : Vector representing the node index of the ending edge j, i.e. the column index of W.\n",
    "* data : The value of edge ij.\n",
    "\n",
    "At last, print the shape and type of the spare matrix. \n"
   ]
  },
  {
   "cell_type": "code",
   "execution_count": null,
   "metadata": {},
   "outputs": [],
   "source": [
    "# Create LFR adjacency matrix W\n",
    "nv = community.shape[0] # nb of vertices\n",
    "ne = network.shape[0]\n",
    "#print(nv,ne)\n",
    "\n",
    "row = # YOUR CODE HERE \n",
    "col = # YOUR CODE HERE \n",
    "data = # YOUR CODE HERE \n",
    "\n",
    "W = # YOUR CODE HERE \n",
    "print(# YOUR CODE HERE )\n"
   ]
  },
  {
   "cell_type": "markdown",
   "metadata": {},
   "source": [
    "### Question 3 : Plot the computed sparse adjacency matrix W.\n",
    "\n",
    "Function is `spy()` from matplotlib:\n",
    "\n",
    "https://matplotlib.org/stable/api/_as_gen/matplotlib.pyplot.spy.html\n",
    "\n",
    "Does it reveal any interesting structure?\n"
   ]
  },
  {
   "cell_type": "code",
   "execution_count": null,
   "metadata": {},
   "outputs": [],
   "source": [
    "# Plot adjacency matrix\n",
    "plt.figure(1)\n",
    "# YOUR CODE HERE \n",
    "plt.show()\n"
   ]
  },
  {
   "cell_type": "code",
   "execution_count": null,
   "metadata": {},
   "outputs": [],
   "source": [
    "######################################\n",
    "# Function that reindexes W according to communities/classes\n",
    "######################################\n",
    "\n",
    "######################################\n",
    "# Usage: \n",
    "#   [reindexed_W,reindexed_C] = reindex_W_with_C(W,C)\n",
    "#\n",
    "# Notations:\n",
    "#   n = nb_data\n",
    "#   nc = nb_communities\n",
    "#\n",
    "# Input variables:\n",
    "#   W = Adjacency matrix. Size = n x n.\n",
    "#   C = Classes used for reindexing W. Size = n x 1. Values in [0,1,...,nc-1].\n",
    "#\n",
    "# Output variables:\n",
    "#   reindexed_W = reindexed adjacency matrix. Size = n x n.\n",
    "#   reindexed_C = reindexed classes C. Size = n x 1. Values in [0,1,...,nc-1].\n",
    "######################################\n",
    "\n",
    "def reindex_W_with_classes(W,C):\n",
    "    n = C.shape[0] # nb of vertices\n",
    "    nc = len(np.unique(C)) # nb of communities\n",
    "    reindexing_mapping = np.zeros([n]) # mapping for reindexing W\n",
    "    reindexed_C = np.zeros([n]) # reindexed C\n",
    "    tot = 0\n",
    "    for k in range(nc):\n",
    "        cluster = (np.where(C==k))[0]\n",
    "        length_cluster = len(cluster)\n",
    "        x = np.array(range(tot,tot+length_cluster))\n",
    "        reindexing_mapping[cluster] = x\n",
    "        reindexed_C[x] = k\n",
    "        tot += length_cluster\n",
    "        \n",
    "    idx_row,idx_col,val = scipy.sparse.find(W)\n",
    "    idx_row = reindexing_mapping[idx_row]\n",
    "    idx_col = reindexing_mapping[idx_col]\n",
    "    reindexed_W = scipy.sparse.csr_matrix((val, (idx_row, idx_col)), shape=(n, n))\n",
    "\n",
    "    return reindexed_W,reindexed_C\n",
    "    "
   ]
  },
  {
   "cell_type": "code",
   "execution_count": null,
   "metadata": {},
   "outputs": [],
   "source": [
    "C = community - 1\n",
    "[W,C] = reindex_W_with_classes(W,C)\n"
   ]
  },
  {
   "cell_type": "markdown",
   "metadata": {},
   "source": [
    "### Question 4 : Plot the adjacency matrix W re-indexed with the ground truth communities.\n",
    "\n",
    "Does it reveal any interesting structure?\n"
   ]
  },
  {
   "cell_type": "code",
   "execution_count": null,
   "metadata": {},
   "outputs": [],
   "source": [
    "# Plot same W but according to communities\n",
    "plt.figure(2)\n",
    "# YOUR CODE HERE \n",
    "plt.show()\n"
   ]
  },
  {
   "cell_type": "markdown",
   "metadata": {},
   "source": [
    "### Comment : The rest of the notebook if for visualizing the graph in 2D and 3D spaces\n",
    "\n",
    "We will study graph visualization later.\n"
   ]
  },
  {
   "cell_type": "code",
   "execution_count": null,
   "metadata": {},
   "outputs": [],
   "source": [
    "######################################\n",
    "# Graph Laplacian Operator\n",
    "######################################\n",
    "\n",
    "######################################\n",
    "# Usages: \n",
    "#   L = compute_graph_laplacian(W); # compute normalized graph Laplacian\n",
    "#   L = compute_graph_laplacian(W,False); # compute UNnormalized graph Laplacian\n",
    "#\n",
    "# Notations:\n",
    "#   n = nb_data\n",
    "#\n",
    "# Input variables:\n",
    "#   W = Adjacency matrix. Size = n x n.\n",
    "#\n",
    "# Output variables:\n",
    "#   L = Graph Laplacian. Size = n x n.\n",
    "######################################\n",
    "\n",
    "def graph_laplacian(W, normalized=True):\n",
    "    \n",
    "    # Degree vector\n",
    "    d = W.sum(axis=0)\n",
    "\n",
    "    # Laplacian matrix\n",
    "    if not normalized:\n",
    "        D = scipy.sparse.diags(d.A.squeeze(), 0)\n",
    "        L = D - W\n",
    "    else:\n",
    "        d += np.spacing(np.array(0, W.dtype)) # d += epsilon\n",
    "        d = 1.0 / np.sqrt(d)\n",
    "        D = scipy.sparse.diags(d.A.squeeze(), 0)\n",
    "        I = scipy.sparse.identity(d.size, dtype=W.dtype)\n",
    "        L = I - D * W * D\n",
    "    return L\n",
    "    "
   ]
  },
  {
   "cell_type": "code",
   "execution_count": null,
   "metadata": {},
   "outputs": [],
   "source": [
    "######################################\n",
    "# Visualization technique:\n",
    "#   Belkin-Niyogi, Laplacian eigenmaps for dimensionality reduction and data representation, 2003\n",
    "######################################\n",
    "\n",
    "######################################\n",
    "# Usage: \n",
    "#   [X,Y,Z] = compute_non_linear_dim_reduction(W)\n",
    "#\n",
    "# Notations:\n",
    "#   n = nb_data\n",
    "#\n",
    "# Input variables:\n",
    "#   W = Adjacency matrix. Size = n x n.\n",
    "#\n",
    "# Output variables:\n",
    "#   X = 1st data coordinates in low-dim manifold. Size n x 1.\n",
    "#   Y = 2nd data coordinates in low-dim manifold. Size n x 1.\n",
    "#   Z = 3rd data coordinates in low-dim manifold. Size n x 1.\n",
    "######################################\n",
    "\n",
    "def sort(lamb, U):\n",
    "    idx = lamb.argsort()\n",
    "    return lamb[idx], U[:,idx]\n",
    "\n",
    "def compute_non_linear_dim_reduction(W):\n",
    "    \n",
    "    # Compute normalized graph Laplacian\n",
    "    L = graph_laplacian(W)\n",
    "    \n",
    "    # Regularization for ill-posed graphs\n",
    "    L = L + 1e-6* scipy.sparse.identity(L.shape[0], dtype=W.dtype)\n",
    "\n",
    "    # Compute the first three Laplacian Eigenmaps\n",
    "    lamb, U = scipy.sparse.linalg.eigsh(L, k=4, which='SM')\n",
    "    \n",
    "    # Sort eigenvalue from smallest to largest values\n",
    "    lamb, U = sort(lamb, U)\n",
    "    \n",
    "    # Coordinates of graph vertices in the low-dim embedding manifold\n",
    "    X = U[:,1]\n",
    "    Y = U[:,2]\n",
    "    Z = U[:,3]\n",
    "\n",
    "    return X,Y,Z\n",
    "\n",
    "[X,Y,Z] = compute_non_linear_dim_reduction(W)\n",
    "#print(X.shape)\n"
   ]
  },
  {
   "cell_type": "code",
   "execution_count": null,
   "metadata": {},
   "outputs": [],
   "source": [
    "# Visualize the social network in 2D\n",
    "plt.figure(3)\n",
    "plt.scatter(X, Y, c=C, s=3, color=pyplot.jet())\n",
    "plt.show()\n"
   ]
  },
  {
   "cell_type": "code",
   "execution_count": null,
   "metadata": {},
   "outputs": [],
   "source": [
    "# 3D Visualization\n",
    "import plotly.graph_objects as go\n",
    "data = go.Scatter3d(x=X, y=Y, z=Z, mode='markers', marker=dict(size=3, color=C, colorscale='jet', opacity=1)) # data as points\n",
    "# data = go.Scatter3d(x=Xvis, y=Yvis, z=Zvis, mode='markers', marker=dict(size=1, color=C, colorscale='jet', opacity=1, showscale=True)) # w/ colobar \n",
    "fig = go.Figure(data=[data]) \n",
    "fig.update_layout(margin=dict(l=0, r=0, b=0, t=30, pad=0)) # tight layout but t=25 required for showing title \n",
    "fig.update_layout(autosize=False, width=600, height=600, title_text=\"3D visualization of LFR graph\") # figure size and title\n",
    "# fig.update_layout(scene = dict(xaxis = dict(visible=False), yaxis = dict(visible=False), zaxis = dict(visible=False))) # no grid, no axis \n",
    "# fig.update_layout(scene = dict(xaxis_title = ' ', yaxis_title = ' ', zaxis_title = ' ')) # no axis name \n",
    "fig.update_layout(scene = dict(zaxis = dict(showgrid = True, showticklabels = False), zaxis_title = ' ') ) # no range values, no axis name, grid on\n",
    "fig.update_layout(scene = dict(yaxis = dict(showgrid = True, showticklabels = False), yaxis_title = ' ') ) # no range values, no axis name, grid on\n",
    "fig.update_layout(scene = dict(xaxis = dict(showgrid = True, showticklabels = False), xaxis_title = ' ') ) # no range values, no axis name, grid on\n",
    "fig.layout.scene.aspectratio = {'x':1, 'y':1, 'z':1}\n",
    "fig.show()\n"
   ]
  },
  {
   "cell_type": "code",
   "execution_count": null,
   "metadata": {},
   "outputs": [],
   "source": []
  }
 ],
 "metadata": {
  "kernelspec": {
   "display_name": "Python 3 (ipykernel)",
   "language": "python",
   "name": "python3"
  },
  "language_info": {
   "codemirror_mode": {
    "name": "ipython",
    "version": 3
   },
   "file_extension": ".py",
   "mimetype": "text/x-python",
   "name": "python",
   "nbconvert_exporter": "python",
   "pygments_lexer": "ipython3",
   "version": "3.8.19"
  }
 },
 "nbformat": 4,
 "nbformat_minor": 4
}
